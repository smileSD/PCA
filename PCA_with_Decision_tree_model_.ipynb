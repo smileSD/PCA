{
  "cells": [
    {
      "cell_type": "markdown",
      "metadata": {
        "id": "view-in-github",
        "colab_type": "text"
      },
      "source": [
        "<a href=\"https://colab.research.google.com/github/smileSD/PCA/blob/main/PCA_with_Decision_tree_model_.ipynb\" target=\"_parent\"><img src=\"https://colab.research.google.com/assets/colab-badge.svg\" alt=\"Open In Colab\"/></a>"
      ]
    },
    {
      "cell_type": "code",
      "execution_count": null,
      "id": "f6cdd970",
      "metadata": {
        "id": "f6cdd970"
      },
      "outputs": [],
      "source": [
        "import numpy as np \n",
        "import pandas as pd  \n",
        "from sklearn.decomposition import PCA \n",
        "  \n",
        "import matplotlib.pyplot as plt \n",
        "import seaborn as sns\n",
        "%matplotlib inline\n",
        "\n",
        "from sklearn.model_selection import train_test_split\n",
        "from sklearn.tree import DecisionTreeClassifier\n",
        "from sklearn.metrics import accuracy_score,confusion_matrix"
      ]
    },
    {
      "cell_type": "code",
      "execution_count": null,
      "id": "65f540ba",
      "metadata": {
        "id": "65f540ba"
      },
      "outputs": [],
      "source": [
        "from sklearn import datasets"
      ]
    },
    {
      "cell_type": "markdown",
      "source": [
        "**MNIST dataset to find the correct label of each image**"
      ],
      "metadata": {
        "id": "7wt-mc1BVjRb"
      },
      "id": "7wt-mc1BVjRb"
    },
    {
      "cell_type": "code",
      "execution_count": null,
      "id": "8480e77a",
      "metadata": {
        "id": "8480e77a"
      },
      "outputs": [],
      "source": [
        "from sklearn.datasets import load_digits\n",
        "digits = load_digits()"
      ]
    },
    {
      "cell_type": "code",
      "execution_count": null,
      "id": "1b8db61e",
      "metadata": {
        "id": "1b8db61e",
        "outputId": "ce6117c3-940f-4de9-aea0-2d5f8af95b04"
      },
      "outputs": [
        {
          "data": {
            "text/plain": [
              "{'data': array([[ 0.,  0.,  5., ...,  0.,  0.,  0.],\n",
              "        [ 0.,  0.,  0., ..., 10.,  0.,  0.],\n",
              "        [ 0.,  0.,  0., ..., 16.,  9.,  0.],\n",
              "        ...,\n",
              "        [ 0.,  0.,  1., ...,  6.,  0.,  0.],\n",
              "        [ 0.,  0.,  2., ..., 12.,  0.,  0.],\n",
              "        [ 0.,  0., 10., ..., 12.,  1.,  0.]]),\n",
              " 'target': array([0, 1, 2, ..., 8, 9, 8]),\n",
              " 'frame': None,\n",
              " 'feature_names': ['pixel_0_0',\n",
              "  'pixel_0_1',\n",
              "  'pixel_0_2',\n",
              "  'pixel_0_3',\n",
              "  'pixel_0_4',\n",
              "  'pixel_0_5',\n",
              "  'pixel_0_6',\n",
              "  'pixel_0_7',\n",
              "  'pixel_1_0',\n",
              "  'pixel_1_1',\n",
              "  'pixel_1_2',\n",
              "  'pixel_1_3',\n",
              "  'pixel_1_4',\n",
              "  'pixel_1_5',\n",
              "  'pixel_1_6',\n",
              "  'pixel_1_7',\n",
              "  'pixel_2_0',\n",
              "  'pixel_2_1',\n",
              "  'pixel_2_2',\n",
              "  'pixel_2_3',\n",
              "  'pixel_2_4',\n",
              "  'pixel_2_5',\n",
              "  'pixel_2_6',\n",
              "  'pixel_2_7',\n",
              "  'pixel_3_0',\n",
              "  'pixel_3_1',\n",
              "  'pixel_3_2',\n",
              "  'pixel_3_3',\n",
              "  'pixel_3_4',\n",
              "  'pixel_3_5',\n",
              "  'pixel_3_6',\n",
              "  'pixel_3_7',\n",
              "  'pixel_4_0',\n",
              "  'pixel_4_1',\n",
              "  'pixel_4_2',\n",
              "  'pixel_4_3',\n",
              "  'pixel_4_4',\n",
              "  'pixel_4_5',\n",
              "  'pixel_4_6',\n",
              "  'pixel_4_7',\n",
              "  'pixel_5_0',\n",
              "  'pixel_5_1',\n",
              "  'pixel_5_2',\n",
              "  'pixel_5_3',\n",
              "  'pixel_5_4',\n",
              "  'pixel_5_5',\n",
              "  'pixel_5_6',\n",
              "  'pixel_5_7',\n",
              "  'pixel_6_0',\n",
              "  'pixel_6_1',\n",
              "  'pixel_6_2',\n",
              "  'pixel_6_3',\n",
              "  'pixel_6_4',\n",
              "  'pixel_6_5',\n",
              "  'pixel_6_6',\n",
              "  'pixel_6_7',\n",
              "  'pixel_7_0',\n",
              "  'pixel_7_1',\n",
              "  'pixel_7_2',\n",
              "  'pixel_7_3',\n",
              "  'pixel_7_4',\n",
              "  'pixel_7_5',\n",
              "  'pixel_7_6',\n",
              "  'pixel_7_7'],\n",
              " 'target_names': array([0, 1, 2, 3, 4, 5, 6, 7, 8, 9]),\n",
              " 'images': array([[[ 0.,  0.,  5., ...,  1.,  0.,  0.],\n",
              "         [ 0.,  0., 13., ..., 15.,  5.,  0.],\n",
              "         [ 0.,  3., 15., ..., 11.,  8.,  0.],\n",
              "         ...,\n",
              "         [ 0.,  4., 11., ..., 12.,  7.,  0.],\n",
              "         [ 0.,  2., 14., ..., 12.,  0.,  0.],\n",
              "         [ 0.,  0.,  6., ...,  0.,  0.,  0.]],\n",
              " \n",
              "        [[ 0.,  0.,  0., ...,  5.,  0.,  0.],\n",
              "         [ 0.,  0.,  0., ...,  9.,  0.,  0.],\n",
              "         [ 0.,  0.,  3., ...,  6.,  0.,  0.],\n",
              "         ...,\n",
              "         [ 0.,  0.,  1., ...,  6.,  0.,  0.],\n",
              "         [ 0.,  0.,  1., ...,  6.,  0.,  0.],\n",
              "         [ 0.,  0.,  0., ..., 10.,  0.,  0.]],\n",
              " \n",
              "        [[ 0.,  0.,  0., ..., 12.,  0.,  0.],\n",
              "         [ 0.,  0.,  3., ..., 14.,  0.,  0.],\n",
              "         [ 0.,  0.,  8., ..., 16.,  0.,  0.],\n",
              "         ...,\n",
              "         [ 0.,  9., 16., ...,  0.,  0.,  0.],\n",
              "         [ 0.,  3., 13., ..., 11.,  5.,  0.],\n",
              "         [ 0.,  0.,  0., ..., 16.,  9.,  0.]],\n",
              " \n",
              "        ...,\n",
              " \n",
              "        [[ 0.,  0.,  1., ...,  1.,  0.,  0.],\n",
              "         [ 0.,  0., 13., ...,  2.,  1.,  0.],\n",
              "         [ 0.,  0., 16., ..., 16.,  5.,  0.],\n",
              "         ...,\n",
              "         [ 0.,  0., 16., ..., 15.,  0.,  0.],\n",
              "         [ 0.,  0., 15., ..., 16.,  0.,  0.],\n",
              "         [ 0.,  0.,  2., ...,  6.,  0.,  0.]],\n",
              " \n",
              "        [[ 0.,  0.,  2., ...,  0.,  0.,  0.],\n",
              "         [ 0.,  0., 14., ..., 15.,  1.,  0.],\n",
              "         [ 0.,  4., 16., ..., 16.,  7.,  0.],\n",
              "         ...,\n",
              "         [ 0.,  0.,  0., ..., 16.,  2.,  0.],\n",
              "         [ 0.,  0.,  4., ..., 16.,  2.,  0.],\n",
              "         [ 0.,  0.,  5., ..., 12.,  0.,  0.]],\n",
              " \n",
              "        [[ 0.,  0., 10., ...,  1.,  0.,  0.],\n",
              "         [ 0.,  2., 16., ...,  1.,  0.,  0.],\n",
              "         [ 0.,  0., 15., ..., 15.,  0.,  0.],\n",
              "         ...,\n",
              "         [ 0.,  4., 16., ..., 16.,  6.,  0.],\n",
              "         [ 0.,  8., 16., ..., 16.,  8.,  0.],\n",
              "         [ 0.,  1.,  8., ..., 12.,  1.,  0.]]]),\n",
              " 'DESCR': \".. _digits_dataset:\\n\\nOptical recognition of handwritten digits dataset\\n--------------------------------------------------\\n\\n**Data Set Characteristics:**\\n\\n    :Number of Instances: 1797\\n    :Number of Attributes: 64\\n    :Attribute Information: 8x8 image of integer pixels in the range 0..16.\\n    :Missing Attribute Values: None\\n    :Creator: E. Alpaydin (alpaydin '@' boun.edu.tr)\\n    :Date: July; 1998\\n\\nThis is a copy of the test set of the UCI ML hand-written digits datasets\\nhttps://archive.ics.uci.edu/ml/datasets/Optical+Recognition+of+Handwritten+Digits\\n\\nThe data set contains images of hand-written digits: 10 classes where\\neach class refers to a digit.\\n\\nPreprocessing programs made available by NIST were used to extract\\nnormalized bitmaps of handwritten digits from a preprinted form. From a\\ntotal of 43 people, 30 contributed to the training set and different 13\\nto the test set. 32x32 bitmaps are divided into nonoverlapping blocks of\\n4x4 and the number of on pixels are counted in each block. This generates\\nan input matrix of 8x8 where each element is an integer in the range\\n0..16. This reduces dimensionality and gives invariance to small\\ndistortions.\\n\\nFor info on NIST preprocessing routines, see M. D. Garris, J. L. Blue, G.\\nT. Candela, D. L. Dimmick, J. Geist, P. J. Grother, S. A. Janet, and C.\\nL. Wilson, NIST Form-Based Handprint Recognition System, NISTIR 5469,\\n1994.\\n\\n.. topic:: References\\n\\n  - C. Kaynak (1995) Methods of Combining Multiple Classifiers and Their\\n    Applications to Handwritten Digit Recognition, MSc Thesis, Institute of\\n    Graduate Studies in Science and Engineering, Bogazici University.\\n  - E. Alpaydin, C. Kaynak (1998) Cascading Classifiers, Kybernetika.\\n  - Ken Tang and Ponnuthurai N. Suganthan and Xi Yao and A. Kai Qin.\\n    Linear dimensionalityreduction using relevance weighted LDA. School of\\n    Electrical and Electronic Engineering Nanyang Technological University.\\n    2005.\\n  - Claudio Gentile. A New Approximate Maximal Margin Classification\\n    Algorithm. NIPS. 2000.\\n\"}"
            ]
          },
          "execution_count": 38,
          "metadata": {},
          "output_type": "execute_result"
        }
      ],
      "source": [
        "digits"
      ]
    },
    {
      "cell_type": "code",
      "execution_count": null,
      "id": "7f1093a8",
      "metadata": {
        "id": "7f1093a8"
      },
      "outputs": [],
      "source": [
        "data1=pd.DataFrame(digits.data)"
      ]
    },
    {
      "cell_type": "code",
      "execution_count": null,
      "id": "6621693d",
      "metadata": {
        "id": "6621693d",
        "outputId": "dabe1b4d-4c7c-4058-b5a8-572c48c238b1"
      },
      "outputs": [
        {
          "data": {
            "text/html": [
              "<div>\n",
              "<style scoped>\n",
              "    .dataframe tbody tr th:only-of-type {\n",
              "        vertical-align: middle;\n",
              "    }\n",
              "\n",
              "    .dataframe tbody tr th {\n",
              "        vertical-align: top;\n",
              "    }\n",
              "\n",
              "    .dataframe thead th {\n",
              "        text-align: right;\n",
              "    }\n",
              "</style>\n",
              "<table border=\"1\" class=\"dataframe\">\n",
              "  <thead>\n",
              "    <tr style=\"text-align: right;\">\n",
              "      <th></th>\n",
              "      <th>0</th>\n",
              "      <th>1</th>\n",
              "      <th>2</th>\n",
              "      <th>3</th>\n",
              "      <th>4</th>\n",
              "      <th>5</th>\n",
              "      <th>6</th>\n",
              "      <th>7</th>\n",
              "      <th>8</th>\n",
              "      <th>9</th>\n",
              "      <th>...</th>\n",
              "      <th>54</th>\n",
              "      <th>55</th>\n",
              "      <th>56</th>\n",
              "      <th>57</th>\n",
              "      <th>58</th>\n",
              "      <th>59</th>\n",
              "      <th>60</th>\n",
              "      <th>61</th>\n",
              "      <th>62</th>\n",
              "      <th>63</th>\n",
              "    </tr>\n",
              "  </thead>\n",
              "  <tbody>\n",
              "    <tr>\n",
              "      <th>0</th>\n",
              "      <td>0.0</td>\n",
              "      <td>0.0</td>\n",
              "      <td>5.0</td>\n",
              "      <td>13.0</td>\n",
              "      <td>9.0</td>\n",
              "      <td>1.0</td>\n",
              "      <td>0.0</td>\n",
              "      <td>0.0</td>\n",
              "      <td>0.0</td>\n",
              "      <td>0.0</td>\n",
              "      <td>...</td>\n",
              "      <td>0.0</td>\n",
              "      <td>0.0</td>\n",
              "      <td>0.0</td>\n",
              "      <td>0.0</td>\n",
              "      <td>6.0</td>\n",
              "      <td>13.0</td>\n",
              "      <td>10.0</td>\n",
              "      <td>0.0</td>\n",
              "      <td>0.0</td>\n",
              "      <td>0.0</td>\n",
              "    </tr>\n",
              "    <tr>\n",
              "      <th>1</th>\n",
              "      <td>0.0</td>\n",
              "      <td>0.0</td>\n",
              "      <td>0.0</td>\n",
              "      <td>12.0</td>\n",
              "      <td>13.0</td>\n",
              "      <td>5.0</td>\n",
              "      <td>0.0</td>\n",
              "      <td>0.0</td>\n",
              "      <td>0.0</td>\n",
              "      <td>0.0</td>\n",
              "      <td>...</td>\n",
              "      <td>0.0</td>\n",
              "      <td>0.0</td>\n",
              "      <td>0.0</td>\n",
              "      <td>0.0</td>\n",
              "      <td>0.0</td>\n",
              "      <td>11.0</td>\n",
              "      <td>16.0</td>\n",
              "      <td>10.0</td>\n",
              "      <td>0.0</td>\n",
              "      <td>0.0</td>\n",
              "    </tr>\n",
              "    <tr>\n",
              "      <th>2</th>\n",
              "      <td>0.0</td>\n",
              "      <td>0.0</td>\n",
              "      <td>0.0</td>\n",
              "      <td>4.0</td>\n",
              "      <td>15.0</td>\n",
              "      <td>12.0</td>\n",
              "      <td>0.0</td>\n",
              "      <td>0.0</td>\n",
              "      <td>0.0</td>\n",
              "      <td>0.0</td>\n",
              "      <td>...</td>\n",
              "      <td>5.0</td>\n",
              "      <td>0.0</td>\n",
              "      <td>0.0</td>\n",
              "      <td>0.0</td>\n",
              "      <td>0.0</td>\n",
              "      <td>3.0</td>\n",
              "      <td>11.0</td>\n",
              "      <td>16.0</td>\n",
              "      <td>9.0</td>\n",
              "      <td>0.0</td>\n",
              "    </tr>\n",
              "    <tr>\n",
              "      <th>3</th>\n",
              "      <td>0.0</td>\n",
              "      <td>0.0</td>\n",
              "      <td>7.0</td>\n",
              "      <td>15.0</td>\n",
              "      <td>13.0</td>\n",
              "      <td>1.0</td>\n",
              "      <td>0.0</td>\n",
              "      <td>0.0</td>\n",
              "      <td>0.0</td>\n",
              "      <td>8.0</td>\n",
              "      <td>...</td>\n",
              "      <td>9.0</td>\n",
              "      <td>0.0</td>\n",
              "      <td>0.0</td>\n",
              "      <td>0.0</td>\n",
              "      <td>7.0</td>\n",
              "      <td>13.0</td>\n",
              "      <td>13.0</td>\n",
              "      <td>9.0</td>\n",
              "      <td>0.0</td>\n",
              "      <td>0.0</td>\n",
              "    </tr>\n",
              "    <tr>\n",
              "      <th>4</th>\n",
              "      <td>0.0</td>\n",
              "      <td>0.0</td>\n",
              "      <td>0.0</td>\n",
              "      <td>1.0</td>\n",
              "      <td>11.0</td>\n",
              "      <td>0.0</td>\n",
              "      <td>0.0</td>\n",
              "      <td>0.0</td>\n",
              "      <td>0.0</td>\n",
              "      <td>0.0</td>\n",
              "      <td>...</td>\n",
              "      <td>0.0</td>\n",
              "      <td>0.0</td>\n",
              "      <td>0.0</td>\n",
              "      <td>0.0</td>\n",
              "      <td>0.0</td>\n",
              "      <td>2.0</td>\n",
              "      <td>16.0</td>\n",
              "      <td>4.0</td>\n",
              "      <td>0.0</td>\n",
              "      <td>0.0</td>\n",
              "    </tr>\n",
              "  </tbody>\n",
              "</table>\n",
              "<p>5 rows × 64 columns</p>\n",
              "</div>"
            ],
            "text/plain": [
              "    0    1    2     3     4     5    6    7    8    9   ...   54   55   56  \\\n",
              "0  0.0  0.0  5.0  13.0   9.0   1.0  0.0  0.0  0.0  0.0  ...  0.0  0.0  0.0   \n",
              "1  0.0  0.0  0.0  12.0  13.0   5.0  0.0  0.0  0.0  0.0  ...  0.0  0.0  0.0   \n",
              "2  0.0  0.0  0.0   4.0  15.0  12.0  0.0  0.0  0.0  0.0  ...  5.0  0.0  0.0   \n",
              "3  0.0  0.0  7.0  15.0  13.0   1.0  0.0  0.0  0.0  8.0  ...  9.0  0.0  0.0   \n",
              "4  0.0  0.0  0.0   1.0  11.0   0.0  0.0  0.0  0.0  0.0  ...  0.0  0.0  0.0   \n",
              "\n",
              "    57   58    59    60    61   62   63  \n",
              "0  0.0  6.0  13.0  10.0   0.0  0.0  0.0  \n",
              "1  0.0  0.0  11.0  16.0  10.0  0.0  0.0  \n",
              "2  0.0  0.0   3.0  11.0  16.0  9.0  0.0  \n",
              "3  0.0  7.0  13.0  13.0   9.0  0.0  0.0  \n",
              "4  0.0  0.0   2.0  16.0   4.0  0.0  0.0  \n",
              "\n",
              "[5 rows x 64 columns]"
            ]
          },
          "execution_count": 43,
          "metadata": {},
          "output_type": "execute_result"
        }
      ],
      "source": [
        "data1.head()"
      ]
    },
    {
      "cell_type": "code",
      "execution_count": null,
      "id": "6562747a",
      "metadata": {
        "id": "6562747a"
      },
      "outputs": [],
      "source": [
        ""
      ]
    },
    {
      "cell_type": "code",
      "execution_count": null,
      "id": "5bfa21b5",
      "metadata": {
        "id": "5bfa21b5"
      },
      "outputs": [],
      "source": [
        "data1.describe()"
      ]
    },
    {
      "cell_type": "code",
      "execution_count": null,
      "id": "5e7ae593",
      "metadata": {
        "id": "5e7ae593",
        "outputId": "3e4a5c8d-b687-41ed-c784-66dc25dea5d1"
      },
      "outputs": [
        {
          "data": {
            "text/plain": [
              "(1797, 64)"
            ]
          },
          "execution_count": 41,
          "metadata": {},
          "output_type": "execute_result"
        }
      ],
      "source": [
        "digits.data.shape"
      ]
    },
    {
      "cell_type": "code",
      "execution_count": null,
      "id": "6b5cfe03",
      "metadata": {
        "id": "6b5cfe03"
      },
      "outputs": [],
      "source": [
        "digits.images.shape"
      ]
    },
    {
      "cell_type": "code",
      "execution_count": null,
      "id": "fa79b642",
      "metadata": {
        "id": "fa79b642"
      },
      "outputs": [],
      "source": [
        ""
      ]
    },
    {
      "cell_type": "code",
      "execution_count": null,
      "id": "8a05f77c",
      "metadata": {
        "id": "8a05f77c",
        "outputId": "8055f422-d284-417f-f01e-59f83004a6de"
      },
      "outputs": [
        {
          "data": {
            "text/plain": [
              "array([ 0.,  0.,  5., 13.,  9.,  1.,  0.,  0.,  0.,  0., 13., 15., 10.,\n",
              "       15.,  5.,  0.,  0.,  3., 15.,  2.,  0., 11.,  8.,  0.,  0.,  4.,\n",
              "       12.,  0.,  0.,  8.,  8.,  0.,  0.,  5.,  8.,  0.,  0.,  9.,  8.,\n",
              "        0.,  0.,  4., 11.,  0.,  1., 12.,  7.,  0.,  0.,  2., 14.,  5.,\n",
              "       10., 12.,  0.,  0.,  0.,  0.,  6., 13., 10.,  0.,  0.,  0.])"
            ]
          },
          "execution_count": 44,
          "metadata": {},
          "output_type": "execute_result"
        }
      ],
      "source": [
        "digits.data[0]"
      ]
    },
    {
      "cell_type": "code",
      "execution_count": null,
      "id": "68de2d8a",
      "metadata": {
        "id": "68de2d8a",
        "outputId": "799e2aa0-30d6-4594-e967-9cf50b4761f2"
      },
      "outputs": [
        {
          "data": {
            "text/plain": [
              "array([[ 0.,  0.,  5., 13.,  9.,  1.,  0.,  0.],\n",
              "       [ 0.,  0., 13., 15., 10., 15.,  5.,  0.],\n",
              "       [ 0.,  3., 15.,  2.,  0., 11.,  8.,  0.],\n",
              "       [ 0.,  4., 12.,  0.,  0.,  8.,  8.,  0.],\n",
              "       [ 0.,  5.,  8.,  0.,  0.,  9.,  8.,  0.],\n",
              "       [ 0.,  4., 11.,  0.,  1., 12.,  7.,  0.],\n",
              "       [ 0.,  2., 14.,  5., 10., 12.,  0.,  0.],\n",
              "       [ 0.,  0.,  6., 13., 10.,  0.,  0.,  0.]])"
            ]
          },
          "execution_count": 49,
          "metadata": {},
          "output_type": "execute_result"
        }
      ],
      "source": [
        "digits.images[0]"
      ]
    },
    {
      "cell_type": "code",
      "execution_count": null,
      "id": "dc187610",
      "metadata": {
        "id": "dc187610",
        "outputId": "5ad5962d-f132-48dc-a729-f9b4b3a09ddf"
      },
      "outputs": [
        {
          "data": {
            "text/plain": [
              "(8, 8)"
            ]
          },
          "execution_count": 48,
          "metadata": {},
          "output_type": "execute_result"
        }
      ],
      "source": [
        "digits.images[0].shape"
      ]
    },
    {
      "cell_type": "code",
      "execution_count": null,
      "id": "293484d7",
      "metadata": {
        "id": "293484d7",
        "outputId": "2047c199-a17f-466f-f5f9-dc1794f86419"
      },
      "outputs": [
        {
          "data": {
            "text/plain": [
              "<matplotlib.image.AxesImage at 0x2aac208a880>"
            ]
          },
          "execution_count": 51,
          "metadata": {},
          "output_type": "execute_result"
        },
        {
          "data": {
            "image/png": "[encoded data removed]",
            "text/plain": [
              "<Figure size 432x288 with 1 Axes>"
            ]
          },
          "metadata": {
            "needs_background": "light"
          },
          "output_type": "display_data"
        }
      ],
      "source": [
        "plt.imshow(digits.images[1], cmap=plt.cm.gray)"
      ]
    },
    {
      "cell_type": "code",
      "execution_count": null,
      "id": "dda9ba56",
      "metadata": {
        "id": "dda9ba56",
        "outputId": "bdb37fb1-1929-420b-8126-b1b04ea0a474"
      },
      "outputs": [
        {
          "data": {
            "text/plain": [
              "{'data': array([[ 0.,  0.,  5., ...,  0.,  0.,  0.],\n",
              "        [ 0.,  0.,  0., ..., 10.,  0.,  0.],\n",
              "        [ 0.,  0.,  0., ..., 16.,  9.,  0.],\n",
              "        ...,\n",
              "        [ 0.,  0.,  1., ...,  6.,  0.,  0.],\n",
              "        [ 0.,  0.,  2., ..., 12.,  0.,  0.],\n",
              "        [ 0.,  0., 10., ..., 12.,  1.,  0.]]),\n",
              " 'target': array([0, 1, 2, ..., 8, 9, 8]),\n",
              " 'frame': None,\n",
              " 'feature_names': ['pixel_0_0',\n",
              "  'pixel_0_1',\n",
              "  'pixel_0_2',\n",
              "  'pixel_0_3',\n",
              "  'pixel_0_4',\n",
              "  'pixel_0_5',\n",
              "  'pixel_0_6',\n",
              "  'pixel_0_7',\n",
              "  'pixel_1_0',\n",
              "  'pixel_1_1',\n",
              "  'pixel_1_2',\n",
              "  'pixel_1_3',\n",
              "  'pixel_1_4',\n",
              "  'pixel_1_5',\n",
              "  'pixel_1_6',\n",
              "  'pixel_1_7',\n",
              "  'pixel_2_0',\n",
              "  'pixel_2_1',\n",
              "  'pixel_2_2',\n",
              "  'pixel_2_3',\n",
              "  'pixel_2_4',\n",
              "  'pixel_2_5',\n",
              "  'pixel_2_6',\n",
              "  'pixel_2_7',\n",
              "  'pixel_3_0',\n",
              "  'pixel_3_1',\n",
              "  'pixel_3_2',\n",
              "  'pixel_3_3',\n",
              "  'pixel_3_4',\n",
              "  'pixel_3_5',\n",
              "  'pixel_3_6',\n",
              "  'pixel_3_7',\n",
              "  'pixel_4_0',\n",
              "  'pixel_4_1',\n",
              "  'pixel_4_2',\n",
              "  'pixel_4_3',\n",
              "  'pixel_4_4',\n",
              "  'pixel_4_5',\n",
              "  'pixel_4_6',\n",
              "  'pixel_4_7',\n",
              "  'pixel_5_0',\n",
              "  'pixel_5_1',\n",
              "  'pixel_5_2',\n",
              "  'pixel_5_3',\n",
              "  'pixel_5_4',\n",
              "  'pixel_5_5',\n",
              "  'pixel_5_6',\n",
              "  'pixel_5_7',\n",
              "  'pixel_6_0',\n",
              "  'pixel_6_1',\n",
              "  'pixel_6_2',\n",
              "  'pixel_6_3',\n",
              "  'pixel_6_4',\n",
              "  'pixel_6_5',\n",
              "  'pixel_6_6',\n",
              "  'pixel_6_7',\n",
              "  'pixel_7_0',\n",
              "  'pixel_7_1',\n",
              "  'pixel_7_2',\n",
              "  'pixel_7_3',\n",
              "  'pixel_7_4',\n",
              "  'pixel_7_5',\n",
              "  'pixel_7_6',\n",
              "  'pixel_7_7'],\n",
              " 'target_names': array([0, 1, 2, 3, 4, 5, 6, 7, 8, 9]),\n",
              " 'images': array([[[ 0.,  0.,  5., ...,  1.,  0.,  0.],\n",
              "         [ 0.,  0., 13., ..., 15.,  5.,  0.],\n",
              "         [ 0.,  3., 15., ..., 11.,  8.,  0.],\n",
              "         ...,\n",
              "         [ 0.,  4., 11., ..., 12.,  7.,  0.],\n",
              "         [ 0.,  2., 14., ..., 12.,  0.,  0.],\n",
              "         [ 0.,  0.,  6., ...,  0.,  0.,  0.]],\n",
              " \n",
              "        [[ 0.,  0.,  0., ...,  5.,  0.,  0.],\n",
              "         [ 0.,  0.,  0., ...,  9.,  0.,  0.],\n",
              "         [ 0.,  0.,  3., ...,  6.,  0.,  0.],\n",
              "         ...,\n",
              "         [ 0.,  0.,  1., ...,  6.,  0.,  0.],\n",
              "         [ 0.,  0.,  1., ...,  6.,  0.,  0.],\n",
              "         [ 0.,  0.,  0., ..., 10.,  0.,  0.]],\n",
              " \n",
              "        [[ 0.,  0.,  0., ..., 12.,  0.,  0.],\n",
              "         [ 0.,  0.,  3., ..., 14.,  0.,  0.],\n",
              "         [ 0.,  0.,  8., ..., 16.,  0.,  0.],\n",
              "         ...,\n",
              "         [ 0.,  9., 16., ...,  0.,  0.,  0.],\n",
              "         [ 0.,  3., 13., ..., 11.,  5.,  0.],\n",
              "         [ 0.,  0.,  0., ..., 16.,  9.,  0.]],\n",
              " \n",
              "        ...,\n",
              " \n",
              "        [[ 0.,  0.,  1., ...,  1.,  0.,  0.],\n",
              "         [ 0.,  0., 13., ...,  2.,  1.,  0.],\n",
              "         [ 0.,  0., 16., ..., 16.,  5.,  0.],\n",
              "         ...,\n",
              "         [ 0.,  0., 16., ..., 15.,  0.,  0.],\n",
              "         [ 0.,  0., 15., ..., 16.,  0.,  0.],\n",
              "         [ 0.,  0.,  2., ...,  6.,  0.,  0.]],\n",
              " \n",
              "        [[ 0.,  0.,  2., ...,  0.,  0.,  0.],\n",
              "         [ 0.,  0., 14., ..., 15.,  1.,  0.],\n",
              "         [ 0.,  4., 16., ..., 16.,  7.,  0.],\n",
              "         ...,\n",
              "         [ 0.,  0.,  0., ..., 16.,  2.,  0.],\n",
              "         [ 0.,  0.,  4., ..., 16.,  2.,  0.],\n",
              "         [ 0.,  0.,  5., ..., 12.,  0.,  0.]],\n",
              " \n",
              "        [[ 0.,  0., 10., ...,  1.,  0.,  0.],\n",
              "         [ 0.,  2., 16., ...,  1.,  0.,  0.],\n",
              "         [ 0.,  0., 15., ..., 15.,  0.,  0.],\n",
              "         ...,\n",
              "         [ 0.,  4., 16., ..., 16.,  6.,  0.],\n",
              "         [ 0.,  8., 16., ..., 16.,  8.,  0.],\n",
              "         [ 0.,  1.,  8., ..., 12.,  1.,  0.]]]),\n",
              " 'DESCR': \".. _digits_dataset:\\n\\nOptical recognition of handwritten digits dataset\\n--------------------------------------------------\\n\\n**Data Set Characteristics:**\\n\\n    :Number of Instances: 1797\\n    :Number of Attributes: 64\\n    :Attribute Information: 8x8 image of integer pixels in the range 0..16.\\n    :Missing Attribute Values: None\\n    :Creator: E. Alpaydin (alpaydin '@' boun.edu.tr)\\n    :Date: July; 1998\\n\\nThis is a copy of the test set of the UCI ML hand-written digits datasets\\nhttps://archive.ics.uci.edu/ml/datasets/Optical+Recognition+of+Handwritten+Digits\\n\\nThe data set contains images of hand-written digits: 10 classes where\\neach class refers to a digit.\\n\\nPreprocessing programs made available by NIST were used to extract\\nnormalized bitmaps of handwritten digits from a preprinted form. From a\\ntotal of 43 people, 30 contributed to the training set and different 13\\nto the test set. 32x32 bitmaps are divided into nonoverlapping blocks of\\n4x4 and the number of on pixels are counted in each block. This generates\\nan input matrix of 8x8 where each element is an integer in the range\\n0..16. This reduces dimensionality and gives invariance to small\\ndistortions.\\n\\nFor info on NIST preprocessing routines, see M. D. Garris, J. L. Blue, G.\\nT. Candela, D. L. Dimmick, J. Geist, P. J. Grother, S. A. Janet, and C.\\nL. Wilson, NIST Form-Based Handprint Recognition System, NISTIR 5469,\\n1994.\\n\\n.. topic:: References\\n\\n  - C. Kaynak (1995) Methods of Combining Multiple Classifiers and Their\\n    Applications to Handwritten Digit Recognition, MSc Thesis, Institute of\\n    Graduate Studies in Science and Engineering, Bogazici University.\\n  - E. Alpaydin, C. Kaynak (1998) Cascading Classifiers, Kybernetika.\\n  - Ken Tang and Ponnuthurai N. Suganthan and Xi Yao and A. Kai Qin.\\n    Linear dimensionalityreduction using relevance weighted LDA. School of\\n    Electrical and Electronic Engineering Nanyang Technological University.\\n    2005.\\n  - Claudio Gentile. A New Approximate Maximal Margin Classification\\n    Algorithm. NIPS. 2000.\\n\"}"
            ]
          },
          "execution_count": 52,
          "metadata": {},
          "output_type": "execute_result"
        }
      ],
      "source": [
        "digits"
      ]
    },
    {
      "cell_type": "code",
      "execution_count": null,
      "id": "c6fe94ee",
      "metadata": {
        "id": "c6fe94ee",
        "outputId": "c1ae6811-0468-4a37-ba42-ec2adf82df5f"
      },
      "outputs": [
        {
          "data": {
            "image/png": "[encoded data removed]",
            "text/plain": [
              "<Figure size 1080x288 with 5 Axes>"
            ]
          },
          "metadata": {
            "needs_background": "light"
          },
          "output_type": "display_data"
        }
      ],
      "source": [
        "#Displaying some of the images and labels\n",
        "import numpy as np\n",
        "import matplotlib.pyplot as plt\n",
        "\n",
        "plt.figure(figsize=(15,4))\n",
        "for index, (image, label) in enumerate(zip(digits.data[0:5], digits.target[0:5])):\n",
        "    plt.subplot(1,5, index+1)\n",
        "    plt.imshow(np.reshape(image, (8,8)), cmap=plt.cm.gray)\n",
        "    plt.title(f\"Training: {label}\", fontsize=20 )  "
      ]
    },
    {
      "cell_type": "code",
      "execution_count": null,
      "id": "55dfd79f",
      "metadata": {
        "id": "55dfd79f"
      },
      "outputs": [],
      "source": [
        "x=digits.data #independent data-- all 64 features\n",
        "y=digits.target #dependnet data-- all the  labels on the images"
      ]
    },
    {
      "cell_type": "code",
      "execution_count": null,
      "id": "2ea1726c",
      "metadata": {
        "id": "2ea1726c",
        "outputId": "545decd2-0e74-4497-84b1-5b61f41c2c35"
      },
      "outputs": [
        {
          "data": {
            "text/plain": [
              "array([[ 0.,  0.,  5., ...,  0.,  0.,  0.],\n",
              "       [ 0.,  0.,  0., ..., 10.,  0.,  0.],\n",
              "       [ 0.,  0.,  0., ..., 16.,  9.,  0.],\n",
              "       ...,\n",
              "       [ 0.,  0.,  1., ...,  6.,  0.,  0.],\n",
              "       [ 0.,  0.,  2., ..., 12.,  0.,  0.],\n",
              "       [ 0.,  0., 10., ..., 12.,  1.,  0.]])"
            ]
          },
          "execution_count": 56,
          "metadata": {},
          "output_type": "execute_result"
        }
      ],
      "source": [
        "x"
      ]
    },
    {
      "cell_type": "code",
      "execution_count": null,
      "id": "a61c33a8",
      "metadata": {
        "id": "a61c33a8",
        "outputId": "88a3e28d-f828-4faa-97af-a5af05c47f60"
      },
      "outputs": [
        {
          "data": {
            "text/plain": [
              "array([0, 1, 2, ..., 8, 9, 8])"
            ]
          },
          "execution_count": 57,
          "metadata": {},
          "output_type": "execute_result"
        }
      ],
      "source": [
        "y"
      ]
    },
    {
      "cell_type": "code",
      "execution_count": null,
      "id": "b13ec5d9",
      "metadata": {
        "id": "b13ec5d9",
        "outputId": "837c0a5a-fae9-45c0-a0e2-b6c1eceb6a85"
      },
      "outputs": [
        {
          "data": {
            "text/plain": [
              "(1797, 64)"
            ]
          },
          "execution_count": 58,
          "metadata": {},
          "output_type": "execute_result"
        }
      ],
      "source": [
        "x.shape"
      ]
    },
    {
      "cell_type": "code",
      "execution_count": null,
      "id": "e7767e0b",
      "metadata": {
        "id": "e7767e0b",
        "outputId": "7b7ac26b-ee93-4257-9fcf-e13fbbb4ef6b"
      },
      "outputs": [
        {
          "data": {
            "text/plain": [
              "(1797,)"
            ]
          },
          "execution_count": 59,
          "metadata": {},
          "output_type": "execute_result"
        }
      ],
      "source": [
        "y.shape"
      ]
    },
    {
      "cell_type": "code",
      "execution_count": null,
      "id": "9d04a3f7",
      "metadata": {
        "id": "9d04a3f7",
        "outputId": "846ec6f7-34db-438d-aa5d-fccd244cdf40"
      },
      "outputs": [
        {
          "data": {
            "text/html": [
              "<div>\n",
              "<style scoped>\n",
              "    .dataframe tbody tr th:only-of-type {\n",
              "        vertical-align: middle;\n",
              "    }\n",
              "\n",
              "    .dataframe tbody tr th {\n",
              "        vertical-align: top;\n",
              "    }\n",
              "\n",
              "    .dataframe thead th {\n",
              "        text-align: right;\n",
              "    }\n",
              "</style>\n",
              "<table border=\"1\" class=\"dataframe\">\n",
              "  <thead>\n",
              "    <tr style=\"text-align: right;\">\n",
              "      <th></th>\n",
              "      <th>0</th>\n",
              "      <th>1</th>\n",
              "      <th>2</th>\n",
              "      <th>3</th>\n",
              "      <th>4</th>\n",
              "      <th>5</th>\n",
              "      <th>6</th>\n",
              "      <th>7</th>\n",
              "      <th>8</th>\n",
              "      <th>9</th>\n",
              "      <th>...</th>\n",
              "      <th>54</th>\n",
              "      <th>55</th>\n",
              "      <th>56</th>\n",
              "      <th>57</th>\n",
              "      <th>58</th>\n",
              "      <th>59</th>\n",
              "      <th>60</th>\n",
              "      <th>61</th>\n",
              "      <th>62</th>\n",
              "      <th>63</th>\n",
              "    </tr>\n",
              "  </thead>\n",
              "  <tbody>\n",
              "    <tr>\n",
              "      <th>count</th>\n",
              "      <td>1797.0</td>\n",
              "      <td>1797.000000</td>\n",
              "      <td>1797.000000</td>\n",
              "      <td>1797.000000</td>\n",
              "      <td>1797.000000</td>\n",
              "      <td>1797.000000</td>\n",
              "      <td>1797.000000</td>\n",
              "      <td>1797.000000</td>\n",
              "      <td>1797.000000</td>\n",
              "      <td>1797.000000</td>\n",
              "      <td>...</td>\n",
              "      <td>1797.000000</td>\n",
              "      <td>1797.000000</td>\n",
              "      <td>1797.000000</td>\n",
              "      <td>1797.000000</td>\n",
              "      <td>1797.000000</td>\n",
              "      <td>1797.000000</td>\n",
              "      <td>1797.000000</td>\n",
              "      <td>1797.000000</td>\n",
              "      <td>1797.000000</td>\n",
              "      <td>1797.000000</td>\n",
              "    </tr>\n",
              "    <tr>\n",
              "      <th>mean</th>\n",
              "      <td>0.0</td>\n",
              "      <td>0.303840</td>\n",
              "      <td>5.204786</td>\n",
              "      <td>11.835838</td>\n",
              "      <td>11.848080</td>\n",
              "      <td>5.781859</td>\n",
              "      <td>1.362270</td>\n",
              "      <td>0.129661</td>\n",
              "      <td>0.005565</td>\n",
              "      <td>1.993879</td>\n",
              "      <td>...</td>\n",
              "      <td>3.725097</td>\n",
              "      <td>0.206455</td>\n",
              "      <td>0.000556</td>\n",
              "      <td>0.279354</td>\n",
              "      <td>5.557596</td>\n",
              "      <td>12.089037</td>\n",
              "      <td>11.809126</td>\n",
              "      <td>6.764051</td>\n",
              "      <td>2.067891</td>\n",
              "      <td>0.364496</td>\n",
              "    </tr>\n",
              "    <tr>\n",
              "      <th>std</th>\n",
              "      <td>0.0</td>\n",
              "      <td>0.907192</td>\n",
              "      <td>4.754826</td>\n",
              "      <td>4.248842</td>\n",
              "      <td>4.287388</td>\n",
              "      <td>5.666418</td>\n",
              "      <td>3.325775</td>\n",
              "      <td>1.037383</td>\n",
              "      <td>0.094222</td>\n",
              "      <td>3.196160</td>\n",
              "      <td>...</td>\n",
              "      <td>4.919406</td>\n",
              "      <td>0.984401</td>\n",
              "      <td>0.023590</td>\n",
              "      <td>0.934302</td>\n",
              "      <td>5.103019</td>\n",
              "      <td>4.374694</td>\n",
              "      <td>4.933947</td>\n",
              "      <td>5.900623</td>\n",
              "      <td>4.090548</td>\n",
              "      <td>1.860122</td>\n",
              "    </tr>\n",
              "    <tr>\n",
              "      <th>min</th>\n",
              "      <td>0.0</td>\n",
              "      <td>0.000000</td>\n",
              "      <td>0.000000</td>\n",
              "      <td>0.000000</td>\n",
              "      <td>0.000000</td>\n",
              "      <td>0.000000</td>\n",
              "      <td>0.000000</td>\n",
              "      <td>0.000000</td>\n",
              "      <td>0.000000</td>\n",
              "      <td>0.000000</td>\n",
              "      <td>...</td>\n",
              "      <td>0.000000</td>\n",
              "      <td>0.000000</td>\n",
              "      <td>0.000000</td>\n",
              "      <td>0.000000</td>\n",
              "      <td>0.000000</td>\n",
              "      <td>0.000000</td>\n",
              "      <td>0.000000</td>\n",
              "      <td>0.000000</td>\n",
              "      <td>0.000000</td>\n",
              "      <td>0.000000</td>\n",
              "    </tr>\n",
              "    <tr>\n",
              "      <th>25%</th>\n",
              "      <td>0.0</td>\n",
              "      <td>0.000000</td>\n",
              "      <td>1.000000</td>\n",
              "      <td>10.000000</td>\n",
              "      <td>10.000000</td>\n",
              "      <td>0.000000</td>\n",
              "      <td>0.000000</td>\n",
              "      <td>0.000000</td>\n",
              "      <td>0.000000</td>\n",
              "      <td>0.000000</td>\n",
              "      <td>...</td>\n",
              "      <td>0.000000</td>\n",
              "      <td>0.000000</td>\n",
              "      <td>0.000000</td>\n",
              "      <td>0.000000</td>\n",
              "      <td>1.000000</td>\n",
              "      <td>11.000000</td>\n",
              "      <td>10.000000</td>\n",
              "      <td>0.000000</td>\n",
              "      <td>0.000000</td>\n",
              "      <td>0.000000</td>\n",
              "    </tr>\n",
              "    <tr>\n",
              "      <th>50%</th>\n",
              "      <td>0.0</td>\n",
              "      <td>0.000000</td>\n",
              "      <td>4.000000</td>\n",
              "      <td>13.000000</td>\n",
              "      <td>13.000000</td>\n",
              "      <td>4.000000</td>\n",
              "      <td>0.000000</td>\n",
              "      <td>0.000000</td>\n",
              "      <td>0.000000</td>\n",
              "      <td>0.000000</td>\n",
              "      <td>...</td>\n",
              "      <td>1.000000</td>\n",
              "      <td>0.000000</td>\n",
              "      <td>0.000000</td>\n",
              "      <td>0.000000</td>\n",
              "      <td>4.000000</td>\n",
              "      <td>13.000000</td>\n",
              "      <td>14.000000</td>\n",
              "      <td>6.000000</td>\n",
              "      <td>0.000000</td>\n",
              "      <td>0.000000</td>\n",
              "    </tr>\n",
              "    <tr>\n",
              "      <th>75%</th>\n",
              "      <td>0.0</td>\n",
              "      <td>0.000000</td>\n",
              "      <td>9.000000</td>\n",
              "      <td>15.000000</td>\n",
              "      <td>15.000000</td>\n",
              "      <td>11.000000</td>\n",
              "      <td>0.000000</td>\n",
              "      <td>0.000000</td>\n",
              "      <td>0.000000</td>\n",
              "      <td>3.000000</td>\n",
              "      <td>...</td>\n",
              "      <td>7.000000</td>\n",
              "      <td>0.000000</td>\n",
              "      <td>0.000000</td>\n",
              "      <td>0.000000</td>\n",
              "      <td>10.000000</td>\n",
              "      <td>16.000000</td>\n",
              "      <td>16.000000</td>\n",
              "      <td>12.000000</td>\n",
              "      <td>2.000000</td>\n",
              "      <td>0.000000</td>\n",
              "    </tr>\n",
              "    <tr>\n",
              "      <th>max</th>\n",
              "      <td>0.0</td>\n",
              "      <td>8.000000</td>\n",
              "      <td>16.000000</td>\n",
              "      <td>16.000000</td>\n",
              "      <td>16.000000</td>\n",
              "      <td>16.000000</td>\n",
              "      <td>16.000000</td>\n",
              "      <td>15.000000</td>\n",
              "      <td>2.000000</td>\n",
              "      <td>16.000000</td>\n",
              "      <td>...</td>\n",
              "      <td>16.000000</td>\n",
              "      <td>13.000000</td>\n",
              "      <td>1.000000</td>\n",
              "      <td>9.000000</td>\n",
              "      <td>16.000000</td>\n",
              "      <td>16.000000</td>\n",
              "      <td>16.000000</td>\n",
              "      <td>16.000000</td>\n",
              "      <td>16.000000</td>\n",
              "      <td>16.000000</td>\n",
              "    </tr>\n",
              "  </tbody>\n",
              "</table>\n",
              "<p>8 rows × 64 columns</p>\n",
              "</div>"
            ],
            "text/plain": [
              "           0            1            2            3            4   \\\n",
              "count  1797.0  1797.000000  1797.000000  1797.000000  1797.000000   \n",
              "mean      0.0     0.303840     5.204786    11.835838    11.848080   \n",
              "std       0.0     0.907192     4.754826     4.248842     4.287388   \n",
              "min       0.0     0.000000     0.000000     0.000000     0.000000   \n",
              "25%       0.0     0.000000     1.000000    10.000000    10.000000   \n",
              "50%       0.0     0.000000     4.000000    13.000000    13.000000   \n",
              "75%       0.0     0.000000     9.000000    15.000000    15.000000   \n",
              "max       0.0     8.000000    16.000000    16.000000    16.000000   \n",
              "\n",
              "                5            6            7            8            9   ...  \\\n",
              "count  1797.000000  1797.000000  1797.000000  1797.000000  1797.000000  ...   \n",
              "mean      5.781859     1.362270     0.129661     0.005565     1.993879  ...   \n",
              "std       5.666418     3.325775     1.037383     0.094222     3.196160  ...   \n",
              "min       0.000000     0.000000     0.000000     0.000000     0.000000  ...   \n",
              "25%       0.000000     0.000000     0.000000     0.000000     0.000000  ...   \n",
              "50%       4.000000     0.000000     0.000000     0.000000     0.000000  ...   \n",
              "75%      11.000000     0.000000     0.000000     0.000000     3.000000  ...   \n",
              "max      16.000000    16.000000    15.000000     2.000000    16.000000  ...   \n",
              "\n",
              "                54           55           56           57           58  \\\n",
              "count  1797.000000  1797.000000  1797.000000  1797.000000  1797.000000   \n",
              "mean      3.725097     0.206455     0.000556     0.279354     5.557596   \n",
              "std       4.919406     0.984401     0.023590     0.934302     5.103019   \n",
              "min       0.000000     0.000000     0.000000     0.000000     0.000000   \n",
              "25%       0.000000     0.000000     0.000000     0.000000     1.000000   \n",
              "50%       1.000000     0.000000     0.000000     0.000000     4.000000   \n",
              "75%       7.000000     0.000000     0.000000     0.000000    10.000000   \n",
              "max      16.000000    13.000000     1.000000     9.000000    16.000000   \n",
              "\n",
              "                59           60           61           62           63  \n",
              "count  1797.000000  1797.000000  1797.000000  1797.000000  1797.000000  \n",
              "mean     12.089037    11.809126     6.764051     2.067891     0.364496  \n",
              "std       4.374694     4.933947     5.900623     4.090548     1.860122  \n",
              "min       0.000000     0.000000     0.000000     0.000000     0.000000  \n",
              "25%      11.000000    10.000000     0.000000     0.000000     0.000000  \n",
              "50%      13.000000    14.000000     6.000000     0.000000     0.000000  \n",
              "75%      16.000000    16.000000    12.000000     2.000000     0.000000  \n",
              "max      16.000000    16.000000    16.000000    16.000000    16.000000  \n",
              "\n",
              "[8 rows x 64 columns]"
            ]
          },
          "execution_count": 60,
          "metadata": {},
          "output_type": "execute_result"
        }
      ],
      "source": [
        "data1.describe()"
      ]
    },
    {
      "cell_type": "code",
      "execution_count": null,
      "id": "fa077131",
      "metadata": {
        "id": "fa077131"
      },
      "outputs": [],
      "source": [
        "from sklearn.preprocessing import StandardScaler\n",
        "# Data Normalization\n",
        "X_std = StandardScaler().fit_transform(x)"
      ]
    },
    {
      "cell_type": "code",
      "execution_count": null,
      "id": "264aa12b",
      "metadata": {
        "id": "264aa12b",
        "outputId": "6b2d21a8-7f5a-4e87-b1fa-7641469b529e"
      },
      "outputs": [
        {
          "data": {
            "text/plain": [
              "array([[ 0.        , -0.33501649, -0.04308102, ..., -1.14664746,\n",
              "        -0.5056698 , -0.19600752],\n",
              "       [ 0.        , -0.33501649, -1.09493684, ...,  0.54856067,\n",
              "        -0.5056698 , -0.19600752],\n",
              "       [ 0.        , -0.33501649, -1.09493684, ...,  1.56568555,\n",
              "         1.6951369 , -0.19600752],\n",
              "       ...,\n",
              "       [ 0.        , -0.33501649, -0.88456568, ..., -0.12952258,\n",
              "        -0.5056698 , -0.19600752],\n",
              "       [ 0.        , -0.33501649, -0.67419451, ...,  0.8876023 ,\n",
              "        -0.5056698 , -0.19600752],\n",
              "       [ 0.        , -0.33501649,  1.00877481, ...,  0.8876023 ,\n",
              "        -0.26113572, -0.19600752]])"
            ]
          },
          "execution_count": 62,
          "metadata": {},
          "output_type": "execute_result"
        }
      ],
      "source": [
        "X_std"
      ]
    },
    {
      "cell_type": "code",
      "execution_count": null,
      "id": "b9ba9121",
      "metadata": {
        "id": "b9ba9121",
        "outputId": "426c49d2-c2ea-4d65-c55d-e92086655d10"
      },
      "outputs": [
        {
          "data": {
            "text/plain": [
              "(1797, 64)"
            ]
          },
          "execution_count": 63,
          "metadata": {},
          "output_type": "execute_result"
        }
      ],
      "source": [
        "X_std.shape"
      ]
    },
    {
      "cell_type": "code",
      "execution_count": null,
      "id": "771bc96d",
      "metadata": {
        "id": "771bc96d"
      },
      "outputs": [],
      "source": [
        ""
      ]
    },
    {
      "cell_type": "code",
      "execution_count": null,
      "id": "53c52a35",
      "metadata": {
        "id": "53c52a35",
        "outputId": "eb8a6289-e0e4-43a3-b8cd-3374dde654c1"
      },
      "outputs": [
        {
          "data": {
            "text/plain": [
              "array([[ 0.        ,  0.        ,  0.        , ...,  0.        ,\n",
              "         0.        ,  0.        ],\n",
              "       [-0.33501649, -0.33501649, -0.33501649, ..., -0.33501649,\n",
              "        -0.33501649, -0.33501649],\n",
              "       [-0.04308102, -1.09493684, -1.09493684, ..., -0.88456568,\n",
              "        -0.67419451,  1.00877481],\n",
              "       ...,\n",
              "       [-1.14664746,  0.54856067,  1.56568555, ..., -0.12952258,\n",
              "         0.8876023 ,  0.8876023 ],\n",
              "       [-0.5056698 , -0.5056698 ,  1.6951369 , ..., -0.5056698 ,\n",
              "        -0.5056698 , -0.26113572],\n",
              "       [-0.19600752, -0.19600752, -0.19600752, ..., -0.19600752,\n",
              "        -0.19600752, -0.19600752]])"
            ]
          },
          "execution_count": 66,
          "metadata": {},
          "output_type": "execute_result"
        }
      ],
      "source": [
        "x1=X_std.T\n",
        "x1"
      ]
    },
    {
      "cell_type": "code",
      "execution_count": null,
      "id": "5752c5e8",
      "metadata": {
        "id": "5752c5e8",
        "outputId": "29d9bd82-b0fb-48da-f1b8-da3c7d142eb8"
      },
      "outputs": [
        {
          "data": {
            "text/plain": [
              "(64, 1797)"
            ]
          },
          "execution_count": 67,
          "metadata": {},
          "output_type": "execute_result"
        }
      ],
      "source": [
        "x1.shape"
      ]
    },
    {
      "cell_type": "code",
      "execution_count": null,
      "id": "eae4d96a",
      "metadata": {
        "id": "eae4d96a"
      },
      "outputs": [],
      "source": [
        "cov_mat = np.cov(X_std.T)"
      ]
    },
    {
      "cell_type": "code",
      "execution_count": null,
      "id": "d48088b8",
      "metadata": {
        "id": "d48088b8"
      },
      "outputs": [],
      "source": [
        "eig_vals, eig_vecs = np.linalg.eig(cov_mat)"
      ]
    },
    {
      "cell_type": "code",
      "execution_count": null,
      "id": "9749fd97",
      "metadata": {
        "id": "9749fd97",
        "outputId": "9df48e07-b751-4731-990e-4f6c187441a8"
      },
      "outputs": [
        {
          "data": {
            "text/plain": [
              "array([7.34477606, 5.83549054, 5.15396118, 3.96623597, 2.9663452 ,\n",
              "       2.57204442, 2.40600941, 2.06867355, 1.82993314, 1.78951739,\n",
              "       1.69784616, 1.57287889, 1.38870781, 1.35933609, 1.32152536,\n",
              "       1.16829176, 1.08368678, 0.99977862, 0.97438293, 0.90891242,\n",
              "       0.82271926, 0.77631014, 0.71155675, 0.64552365, 0.59527399,\n",
              "       0.5765018 , 0.52673155, 0.5106363 , 0.48686381, 0.45560107,\n",
              "       0.44285155, 0.42230086, 0.3991063 , 0.39110111, 0.36094517,\n",
              "       0.34860306, 0.3195963 , 0.29406627, 0.05037444, 0.27692285,\n",
              "       0.06328961, 0.258273  , 0.24783029, 0.2423566 , 0.07635394,\n",
              "       0.08246812, 0.09018543, 0.09840876, 0.10250434, 0.11188655,\n",
              "       0.11932898, 0.12426371, 0.13321081, 0.14311427, 0.217582  ,\n",
              "       0.15818474, 0.16875236, 0.20799593, 0.17612894, 0.2000909 ,\n",
              "       0.18983516, 0.        , 0.        , 0.        ])"
            ]
          },
          "execution_count": 70,
          "metadata": {},
          "output_type": "execute_result"
        }
      ],
      "source": [
        "eig_vals"
      ]
    },
    {
      "cell_type": "code",
      "execution_count": null,
      "id": "fb97fcad",
      "metadata": {
        "id": "fb97fcad",
        "outputId": "7fc0bebc-8ecc-4af7-d79b-9efccbc147a6"
      },
      "outputs": [
        {
          "data": {
            "text/plain": [
              "[12.033916097734895,\n",
              " 9.561054403097872,\n",
              " 8.444414892624566,\n",
              " 6.498407907524164,\n",
              " 4.860154875966409,\n",
              " 4.214119869271949,\n",
              " 3.9420828035673705,\n",
              " 3.3893809246383264,\n",
              " 2.998221011625231,\n",
              " 2.932002551252215,\n",
              " 2.781805463550328,\n",
              " 2.5770550925820093,\n",
              " 2.275303315764257,\n",
              " 2.227179739514352,\n",
              " 2.1652294318492404,\n",
              " 1.9141666064421259,\n",
              " 1.7755470851681905,\n",
              " 1.6380692742844218,\n",
              " 1.5964601688623399,\n",
              " 1.4891911870878232,\n",
              " 1.347969565817934,\n",
              " 1.2719313702347488,\n",
              " 1.1658373505919426,\n",
              " 1.057646598536317,\n",
              " 0.9753159471981102,\n",
              " 0.9445589897319995,\n",
              " 0.863013826970724,\n",
              " 0.8366428536685141,\n",
              " 0.7976932484112367,\n",
              " 0.7464713709260616,\n",
              " 0.7255821513702765,\n",
              " 0.6919112454811804,\n",
              " 0.653908535572616,\n",
              " 0.6407925738459836,\n",
              " 0.5913841117223417,\n",
              " 0.5711624052235237,\n",
              " 0.5236368034166363,\n",
              " 0.4818075864451421,\n",
              " 0.45371925985844846,\n",
              " 0.42316275323277824,\n",
              " 0.406053069979037,\n",
              " 0.39708480827582654,\n",
              " 0.35649330314261685,\n",
              " 0.34078718147029946,\n",
              " 0.3278353352879543,\n",
              " 0.3110320073453566,\n",
              " 0.2885752941089339,\n",
              " 0.27648926352354514,\n",
              " 0.2591749408814638,\n",
              " 0.2344830055356335,\n",
              " 0.21825685771200737,\n",
              " 0.20359763452537616,\n",
              " 0.19551242601981758,\n",
              " 0.18331849919718218,\n",
              " 0.1679463874955824,\n",
              " 0.16123606225672674,\n",
              " 0.14776269410608833,\n",
              " 0.1351184113370859,\n",
              " 0.1251007424973018,\n",
              " 0.10369573015571959,\n",
              " 0.08253509448180096,\n",
              " 0.0,\n",
              " 0.0,\n",
              " 0.0]"
            ]
          },
          "execution_count": 71,
          "metadata": {},
          "output_type": "execute_result"
        }
      ],
      "source": [
        "# Calculation of Explained Variance from the eigenvalues\n",
        "tot = sum(eig_vals)\n",
        "var_exp = [(i/tot)*100 for i in sorted(eig_vals, reverse=True)] \n",
        "var_exp"
      ]
    },
    {
      "cell_type": "code",
      "execution_count": null,
      "id": "194ada56",
      "metadata": {
        "id": "194ada56",
        "outputId": "2de63a77-6e19-4f3a-b9ad-5a5e23feff9e"
      },
      "outputs": [
        {
          "data": {
            "text/plain": [
              "array([ 12.0339161 ,  21.5949705 ,  30.03938539,  36.5377933 ,\n",
              "        41.39794818,  45.61206805,  49.55415085,  52.94353177,\n",
              "        55.94175279,  58.87375534,  61.6555608 ,  64.23261589,\n",
              "        66.50791921,  68.73509895,  70.90032838,  72.81449499,\n",
              "        74.59004207,  76.22811135,  77.82457152,  79.3137627 ,\n",
              "        80.66173227,  81.93366364,  83.09950099,  84.15714759,\n",
              "        85.13246353,  86.07702252,  86.94003635,  87.77667921,\n",
              "        88.57437245,  89.32084382,  90.04642598,  90.73833722,\n",
              "        91.39224576,  92.03303833,  92.62442244,  93.19558485,\n",
              "        93.71922165,  94.20102924,  94.6547485 ,  95.07791125,\n",
              "        95.48396432,  95.88104913,  96.23754243,  96.57832961,\n",
              "        96.90616495,  97.21719696,  97.50577225,  97.78226151,\n",
              "        98.04143645,  98.27591946,  98.49417632,  98.69777395,\n",
              "        98.89328638,  99.07660488,  99.24455127,  99.40578733,\n",
              "        99.55355002,  99.68866843,  99.81376918,  99.91746491,\n",
              "       100.        , 100.        , 100.        , 100.        ])"
            ]
          },
          "execution_count": 72,
          "metadata": {},
          "output_type": "execute_result"
        }
      ],
      "source": [
        "cum_var_exp = np.cumsum(var_exp) # Cumulative explained variance\n",
        "cum_var_exp"
      ]
    },
    {
      "cell_type": "code",
      "execution_count": null,
      "id": "cec7878b",
      "metadata": {
        "id": "cec7878b",
        "outputId": "536c2309-0fe6-4876-dc9c-14b04bc30c44"
      },
      "outputs": [
        {
          "data": {
            "image/png": "[encoded data removed]",
            "text/plain": [
              "<Figure size 720x360 with 1 Axes>"
            ]
          },
          "metadata": {
            "needs_background": "light"
          },
          "output_type": "display_data"
        }
      ],
      "source": [
        "plt.figure(figsize=(10, 5))\n",
        "plt.bar(range(len(var_exp)), var_exp, label='individual explained variance', color = 'g')\n",
        "plt.step(range(len(cum_var_exp)), cum_var_exp,label='cumulative explained variance')\n",
        "plt.ylabel('Explained variance ratio')\n",
        "plt.xlabel('Principal components')\n",
        "plt.legend()\n",
        "plt.show()"
      ]
    },
    {
      "cell_type": "code",
      "execution_count": null,
      "id": "5f56ddb0",
      "metadata": {
        "id": "5f56ddb0"
      },
      "outputs": [],
      "source": [
        "x_train,x_test,y_train,y_test=train_test_split(X_std,y, train_size=0.8)"
      ]
    },
    {
      "cell_type": "code",
      "execution_count": null,
      "id": "a66e28e2",
      "metadata": {
        "id": "a66e28e2",
        "outputId": "620b1c64-2eb0-441d-d63e-774fc5082baa"
      },
      "outputs": [
        {
          "data": {
            "text/plain": [
              "(360, 64)"
            ]
          },
          "execution_count": 81,
          "metadata": {},
          "output_type": "execute_result"
        }
      ],
      "source": [
        "x_test.shape"
      ]
    },
    {
      "cell_type": "code",
      "execution_count": null,
      "id": "d4424209",
      "metadata": {
        "id": "d4424209",
        "outputId": "a2a63301-9a69-4e22-d0d9-2cf54e88d5f1"
      },
      "outputs": [
        {
          "data": {
            "text/plain": [
              "(1437, 64)"
            ]
          },
          "execution_count": 76,
          "metadata": {},
          "output_type": "execute_result"
        }
      ],
      "source": [
        "x_train.shape"
      ]
    },
    {
      "cell_type": "code",
      "execution_count": null,
      "id": "f39b8439",
      "metadata": {
        "id": "f39b8439"
      },
      "outputs": [],
      "source": [
        "pca = PCA(n_components=20)\n",
        "pca_x_train = pca.fit_transform(x_train)\n",
        "pca_x_test = pca.transform(x_test)"
      ]
    },
    {
      "cell_type": "code",
      "execution_count": null,
      "id": "4a821b93",
      "metadata": {
        "id": "4a821b93",
        "outputId": "82608152-02a2-4e48-d527-4322222fb340"
      },
      "outputs": [
        {
          "data": {
            "text/plain": [
              "(1437, 20)"
            ]
          },
          "execution_count": 78,
          "metadata": {},
          "output_type": "execute_result"
        }
      ],
      "source": [
        "pca_x_train.shape"
      ]
    },
    {
      "cell_type": "code",
      "execution_count": null,
      "id": "f06356c9",
      "metadata": {
        "id": "f06356c9",
        "outputId": "6bd57956-5bb2-417d-fbf8-7eaf716103dd"
      },
      "outputs": [
        {
          "data": {
            "text/plain": [
              "(360, 20)"
            ]
          },
          "execution_count": 80,
          "metadata": {},
          "output_type": "execute_result"
        }
      ],
      "source": [
        "pca_x_test.shape"
      ]
    },
    {
      "cell_type": "code",
      "execution_count": null,
      "id": "1400ad9c",
      "metadata": {
        "id": "1400ad9c"
      },
      "outputs": [],
      "source": [
        "rf=DecisionTreeClassifier().fit(pca_x_train,y_train)"
      ]
    },
    {
      "cell_type": "code",
      "execution_count": null,
      "id": "0f1b6414",
      "metadata": {
        "id": "0f1b6414"
      },
      "outputs": [],
      "source": [
        "predicted=rf.predict(pca_x_test)"
      ]
    },
    {
      "cell_type": "code",
      "execution_count": null,
      "id": "6001dbdd",
      "metadata": {
        "id": "6001dbdd",
        "outputId": "5b1dcc8d-29b9-42ce-f9a9-9240ad9fd04e"
      },
      "outputs": [
        {
          "data": {
            "text/plain": [
              "array([6, 0, 8, 8, 8, 4, 9, 3, 3, 9, 7, 6, 2, 2, 5, 2, 8, 1, 7, 5, 4, 8,\n",
              "       6, 5, 1, 1, 3, 9, 8, 0, 7, 8, 6, 1, 1, 6, 8, 4, 6, 1, 1, 4, 8, 6,\n",
              "       2, 4, 6, 3, 8, 4, 7, 6, 2, 5, 9, 9, 2, 8, 7, 6, 1, 1, 9, 0, 7, 7,\n",
              "       9, 0, 2, 3, 1, 2, 9, 6, 5, 0, 8, 8, 9, 5, 9, 3, 1, 8, 5, 4, 3, 3,\n",
              "       5, 0, 4, 2, 7, 4, 2, 4, 6, 5, 6, 5, 6, 2, 3, 6, 7, 3, 7, 1, 9, 5,\n",
              "       8, 0, 4, 2, 7, 0, 6, 8, 1, 1, 6, 6, 8, 4, 5, 6, 2, 9, 3, 7, 5, 7,\n",
              "       5, 1, 5, 9, 9, 7, 4, 1, 9, 0, 0, 5, 7, 9, 3, 7, 8, 1, 0, 4, 3, 6,\n",
              "       5, 2, 8, 6, 5, 5, 3, 1, 4, 9, 0, 1, 1, 4, 4, 4, 1, 7, 1, 2, 7, 1,\n",
              "       9, 5, 7, 9, 9, 9, 5, 5, 2, 2, 4, 4, 5, 0, 2, 5, 7, 4, 6, 7, 2, 2,\n",
              "       7, 2, 7, 5, 0, 3, 3, 3, 8, 9, 6, 9, 6, 1, 0, 3, 6, 3, 6, 0, 5, 7,\n",
              "       9, 5, 1, 1, 2, 1, 6, 2, 1, 0, 8, 4, 1, 7, 7, 9, 9, 5, 5, 2, 4, 4,\n",
              "       9, 5, 8, 2, 3, 1, 6, 5, 0, 9, 7, 6, 1, 7, 7, 6, 7, 3, 4, 8, 5, 8,\n",
              "       8, 8, 8, 4, 3, 6, 9, 0, 8, 3, 0, 8, 2, 4, 9, 9, 7, 7, 1, 4, 3, 6,\n",
              "       0, 1, 9, 5, 9, 1, 8, 8, 2, 4, 2, 3, 8, 5, 0, 1, 3, 0, 5, 3, 9, 9,\n",
              "       6, 1, 3, 6, 3, 5, 2, 8, 6, 2, 3, 0, 5, 4, 4, 8, 7, 5, 2, 7, 8, 2,\n",
              "       9, 3, 2, 2, 2, 0, 1, 3, 7, 9, 0, 9, 8, 4, 6, 7, 0, 7, 1, 3, 9, 0,\n",
              "       8, 5, 8, 7, 1, 9, 0, 2])"
            ]
          },
          "execution_count": 84,
          "metadata": {},
          "output_type": "execute_result"
        }
      ],
      "source": [
        "predicted"
      ]
    },
    {
      "cell_type": "code",
      "execution_count": null,
      "id": "194b54fc",
      "metadata": {
        "id": "194b54fc",
        "outputId": "1a15502e-22d6-415d-e8b8-e313f9c39e4f"
      },
      "outputs": [
        {
          "data": {
            "text/plain": [
              "(360,)"
            ]
          },
          "execution_count": 88,
          "metadata": {},
          "output_type": "execute_result"
        }
      ],
      "source": [
        "y_test.shape"
      ]
    },
    {
      "cell_type": "code",
      "execution_count": null,
      "id": "3d503888",
      "metadata": {
        "id": "3d503888",
        "outputId": "35f10118-0022-4307-c168-d29e101b14cf"
      },
      "outputs": [
        {
          "data": {
            "text/plain": [
              "0.8416666666666667"
            ]
          },
          "execution_count": 86,
          "metadata": {},
          "output_type": "execute_result"
        }
      ],
      "source": [
        "accuracy_score(predicted,y_test)"
      ]
    },
    {
      "cell_type": "code",
      "execution_count": null,
      "id": "81d34a82",
      "metadata": {
        "id": "81d34a82",
        "outputId": "51287533-195e-49ab-f705-b787752454fe"
      },
      "outputs": [
        {
          "data": {
            "text/plain": [
              "array([[26,  0,  0,  0,  0,  1,  1,  0,  0,  1],\n",
              "       [ 1, 34,  0,  0,  0,  0,  0,  0,  3,  1],\n",
              "       [ 0,  0, 31,  0,  0,  1,  0,  1,  2,  1],\n",
              "       [ 0,  0,  0, 24,  0,  1,  0,  0,  4,  4],\n",
              "       [ 0,  0,  1,  0, 28,  0,  1,  0,  1,  1],\n",
              "       [ 1,  0,  0,  1,  1, 31,  0,  1,  2,  2],\n",
              "       [ 1,  0,  0,  0,  0,  0, 34,  1,  0,  0],\n",
              "       [ 0,  0,  1,  0,  2,  0,  0, 35,  0,  0],\n",
              "       [ 0,  0,  2,  1,  0,  2,  1,  0, 29,  3],\n",
              "       [ 1,  1,  1,  0,  1,  2,  0,  1,  2, 31]], dtype=int64)"
            ]
          },
          "execution_count": 87,
          "metadata": {},
          "output_type": "execute_result"
        }
      ],
      "source": [
        "confusion_matrix(predicted, y_test)"
      ]
    },
    {
      "cell_type": "code",
      "execution_count": null,
      "id": "7aa5e509",
      "metadata": {
        "id": "7aa5e509"
      },
      "outputs": [],
      "source": [
        "digits.data"
      ]
    },
    {
      "cell_type": "code",
      "execution_count": null,
      "id": "5622a89b",
      "metadata": {
        "id": "5622a89b"
      },
      "outputs": [],
      "source": [
        "digits.target[0:5]"
      ]
    },
    {
      "cell_type": "code",
      "execution_count": null,
      "id": "27c19b53",
      "metadata": {
        "id": "27c19b53",
        "outputId": "845ce962-5502-432d-93a4-253e97a462ac"
      },
      "outputs": [
        {
          "name": "stdout",
          "output_type": "stream",
          "text": [
            "0 2\n",
            "1 3\n",
            "2 4\n",
            "3 54\n"
          ]
        }
      ],
      "source": [
        "for i,a in enumerate([2,3,4,54]):\n",
        "    print(i,a)"
      ]
    },
    {
      "cell_type": "code",
      "execution_count": null,
      "id": "31e15f58",
      "metadata": {
        "id": "31e15f58"
      },
      "outputs": [],
      "source": [
        ""
      ]
    },
    {
      "cell_type": "code",
      "execution_count": null,
      "id": "9c3134d0",
      "metadata": {
        "id": "9c3134d0",
        "outputId": "a6778231-6d7d-4f86-c294-dc46aa96c90d"
      },
      "outputs": [
        {
          "data": {
            "text/plain": [
              "array([6, 0, 8, 8, 8, 4, 9, 3, 3, 9, 7, 6, 2, 2, 5, 2, 8, 1, 7, 5, 4, 8,\n",
              "       6, 5, 1, 1, 3, 9, 8, 0, 7, 8, 6, 1, 1, 6, 8, 4, 6, 1, 1, 4, 8, 6,\n",
              "       2, 4, 6, 3, 8, 4, 7, 6, 2, 5, 9, 9, 2, 8, 7, 6, 1, 1, 9, 0, 7, 7,\n",
              "       9, 0, 2, 3, 1, 2, 9, 6, 5, 0, 8, 8, 9, 5, 9, 3, 1, 8, 5, 4, 3, 3,\n",
              "       5, 0, 4, 2, 7, 4, 2, 4, 6, 5, 6, 5, 6, 2, 3, 6, 7, 3, 7, 1, 9, 5,\n",
              "       8, 0, 4, 2, 7, 0, 6, 8, 1, 1, 6, 6, 8, 4, 5, 6, 2, 9, 3, 7, 5, 7,\n",
              "       5, 1, 5, 9, 9, 7, 4, 1, 9, 0, 0, 5, 7, 9, 3, 7, 8, 1, 0, 4, 3, 6,\n",
              "       5, 2, 8, 6, 5, 5, 3, 1, 4, 9, 0, 1, 1, 4, 4, 4, 1, 7, 1, 2, 7, 1,\n",
              "       9, 5, 7, 9, 9, 9, 5, 5, 2, 2, 4, 4, 5, 0, 2, 5, 7, 4, 6, 7, 2, 2,\n",
              "       7, 2, 7, 5, 0, 3, 3, 3, 8, 9, 6, 9, 6, 1, 0, 3, 6, 3, 6, 0, 5, 7,\n",
              "       9, 5, 1, 1, 2, 1, 6, 2, 1, 0, 8, 4, 1, 7, 7, 9, 9, 5, 5, 2, 4, 4,\n",
              "       9, 5, 8, 2, 3, 1, 6, 5, 0, 9, 7, 6, 1, 7, 7, 6, 7, 3, 4, 8, 5, 8,\n",
              "       8, 8, 8, 4, 3, 6, 9, 0, 8, 3, 0, 8, 2, 4, 9, 9, 7, 7, 1, 4, 3, 6,\n",
              "       0, 1, 9, 5, 9, 1, 8, 8, 2, 4, 2, 3, 8, 5, 0, 1, 3, 0, 5, 3, 9, 9,\n",
              "       6, 1, 3, 6, 3, 5, 2, 8, 6, 2, 3, 0, 5, 4, 4, 8, 7, 5, 2, 7, 8, 2,\n",
              "       9, 3, 2, 2, 2, 0, 1, 3, 7, 9, 0, 9, 8, 4, 6, 7, 0, 7, 1, 3, 9, 0,\n",
              "       8, 5, 8, 7, 1, 9, 0, 2])"
            ]
          },
          "execution_count": 89,
          "metadata": {},
          "output_type": "execute_result"
        }
      ],
      "source": [
        "predicted"
      ]
    },
    {
      "cell_type": "code",
      "execution_count": null,
      "id": "31a8b35c",
      "metadata": {
        "id": "31a8b35c",
        "outputId": "ce656153-afd7-4c60-8dda-a45bdfb26f5c"
      },
      "outputs": [
        {
          "data": {
            "text/plain": [
              "array([6, 0, 8, 8, 8, 4, 9, 3, 3, 9, 7, 6, 2, 2, 4, 8, 8, 1, 7, 5, 4, 8,\n",
              "       6, 5, 1, 8, 3, 9, 8, 0, 7, 8, 6, 1, 1, 6, 2, 4, 6, 1, 1, 4, 8, 6,\n",
              "       9, 4, 6, 3, 9, 4, 7, 6, 2, 5, 9, 9, 2, 5, 7, 6, 1, 1, 9, 0, 7, 7,\n",
              "       9, 0, 2, 3, 1, 2, 9, 6, 5, 0, 6, 9, 9, 5, 9, 3, 1, 8, 8, 8, 3, 3,\n",
              "       5, 0, 4, 5, 7, 4, 8, 4, 6, 5, 6, 9, 6, 2, 3, 6, 7, 3, 7, 1, 9, 5,\n",
              "       8, 0, 4, 2, 7, 0, 6, 8, 1, 0, 6, 6, 8, 4, 5, 6, 2, 9, 8, 7, 5, 4,\n",
              "       5, 1, 5, 8, 9, 7, 4, 1, 9, 5, 0, 5, 7, 2, 3, 4, 8, 9, 0, 9, 3, 0,\n",
              "       5, 2, 8, 6, 0, 5, 9, 1, 4, 9, 0, 1, 1, 4, 4, 4, 8, 7, 1, 2, 7, 1,\n",
              "       0, 9, 7, 8, 9, 9, 7, 5, 2, 2, 2, 4, 3, 0, 2, 5, 7, 4, 6, 7, 2, 2,\n",
              "       7, 2, 7, 5, 0, 3, 3, 3, 8, 9, 6, 9, 6, 1, 0, 3, 6, 8, 6, 0, 5, 7,\n",
              "       9, 5, 1, 1, 2, 1, 6, 2, 1, 0, 8, 4, 8, 7, 7, 9, 9, 8, 5, 7, 4, 4,\n",
              "       9, 5, 8, 2, 9, 1, 7, 5, 0, 1, 7, 6, 1, 7, 7, 6, 7, 5, 4, 8, 5, 8,\n",
              "       8, 2, 8, 6, 3, 6, 9, 0, 8, 8, 0, 8, 2, 4, 4, 5, 7, 2, 1, 4, 9, 6,\n",
              "       6, 1, 9, 5, 9, 1, 9, 8, 2, 4, 2, 3, 8, 5, 0, 1, 3, 0, 5, 8, 9, 9,\n",
              "       6, 1, 9, 6, 3, 5, 2, 3, 6, 2, 3, 0, 5, 4, 4, 8, 7, 5, 2, 7, 5, 2,\n",
              "       9, 3, 2, 2, 2, 0, 1, 3, 7, 7, 0, 9, 8, 4, 6, 7, 9, 7, 1, 3, 5, 0,\n",
              "       8, 5, 8, 7, 1, 9, 0, 2])"
            ]
          },
          "execution_count": 90,
          "metadata": {},
          "output_type": "execute_result"
        }
      ],
      "source": [
        "y_test"
      ]
    },
    {
      "cell_type": "code",
      "execution_count": null,
      "id": "465030f7",
      "metadata": {
        "id": "465030f7"
      },
      "outputs": [],
      "source": [
        "y_test.shape"
      ]
    },
    {
      "cell_type": "code",
      "execution_count": null,
      "id": "26b443fe",
      "metadata": {
        "id": "26b443fe"
      },
      "outputs": [],
      "source": [
        "def get_misclassified_index(y_pred,y_test):\n",
        "    misclassification=[]#help us out to get the misclassified index value\n",
        "    for index,(predicted,actual) in enumerate(zip(y_pred,y_test)):\n",
        "        if predicted!=actual:\n",
        "            misclassification.append(index)\n",
        "            \n",
        "    return misclassification"
      ]
    },
    {
      "cell_type": "code",
      "execution_count": null,
      "id": "1511b6cc",
      "metadata": {
        "id": "1511b6cc"
      },
      "outputs": [],
      "source": [
        "misclassification = get_misclassified_index(predicted,y_test)"
      ]
    },
    {
      "cell_type": "code",
      "execution_count": null,
      "id": "a132f63d",
      "metadata": {
        "id": "a132f63d",
        "outputId": "919b1b66-acfe-4cd5-fbb9-67c2e05d0a14"
      },
      "outputs": [
        {
          "data": {
            "text/plain": [
              "57"
            ]
          },
          "execution_count": 95,
          "metadata": {},
          "output_type": "execute_result"
        }
      ],
      "source": [
        "len(misclassification)"
      ]
    },
    {
      "cell_type": "code",
      "execution_count": null,
      "id": "97a832fa",
      "metadata": {
        "id": "97a832fa",
        "outputId": "14d76e18-20da-40d2-8d5a-f4053c3ec054"
      },
      "outputs": [
        {
          "data": {
            "text/plain": [
              "array([ 3.15990259, -0.16790979,  1.9582107 ,  0.27691861,  0.26682162,\n",
              "       -1.63588323,  2.1832873 ,  0.3615494 , -0.2841437 , -0.34296471,\n",
              "        1.55494172, -0.87347565, -0.34057782,  0.47544557, -0.12822067,\n",
              "        1.36709661,  0.09869584, -0.40762052,  0.40121299,  0.06049324])"
            ]
          },
          "execution_count": 98,
          "metadata": {},
          "output_type": "execute_result"
        }
      ],
      "source": [
        "pca_x_test[14]"
      ]
    },
    {
      "cell_type": "code",
      "execution_count": null,
      "id": "adfd8590",
      "metadata": {
        "id": "adfd8590",
        "outputId": "969e79c6-955f-47f5-e7b1-792ed190c29b"
      },
      "outputs": [
        {
          "data": {
            "text/plain": [
              "5"
            ]
          },
          "execution_count": 99,
          "metadata": {},
          "output_type": "execute_result"
        }
      ],
      "source": [
        "predicted[14]"
      ]
    },
    {
      "cell_type": "code",
      "execution_count": null,
      "id": "1f5d6a0e",
      "metadata": {
        "id": "1f5d6a0e",
        "outputId": "c4fb8ffe-0a42-40ea-e4f1-8e9177b6e7ad"
      },
      "outputs": [
        {
          "data": {
            "text/plain": [
              "4"
            ]
          },
          "execution_count": 100,
          "metadata": {},
          "output_type": "execute_result"
        }
      ],
      "source": [
        "y_test[14]"
      ]
    },
    {
      "cell_type": "code",
      "execution_count": null,
      "id": "0819cf64",
      "metadata": {
        "id": "0819cf64",
        "outputId": "c968ef9c-c7ec-4a47-d72f-72c05568ac6b"
      },
      "outputs": [
        {
          "data": {
            "text/plain": [
              "[14, 15, 25, 36, 44]"
            ]
          },
          "execution_count": 96,
          "metadata": {},
          "output_type": "execute_result"
        }
      ],
      "source": [
        "misclassification[0:5]"
      ]
    },
    {
      "cell_type": "code",
      "execution_count": null,
      "id": "41f21ca0",
      "metadata": {
        "id": "41f21ca0"
      },
      "outputs": [],
      "source": [
        "for the 1st loop, index=0, wrong= 14"
      ]
    },
    {
      "cell_type": "code",
      "execution_count": null,
      "id": "8f1e2c73",
      "metadata": {
        "id": "8f1e2c73"
      },
      "outputs": [],
      "source": [
        "def plot_misclassifications(misclassification):\n",
        "    plt.figure(figsize=(20,4))\n",
        "    for index,wrong in enumerate(misclassification[0:5]):\n",
        "        plt.subplot(1,5,index+1)\n",
        "        plt.imshow(np.reshape(pca_x_test[wrong],(5,4)),cmap=plt.cm.gray)\n",
        "        plt.title(\"Predicted:{} Actual:{}\".format(predicted[wrong],y_test[wrong]))"
      ]
    },
    {
      "cell_type": "code",
      "execution_count": null,
      "id": "86db8802",
      "metadata": {
        "id": "86db8802",
        "outputId": "41d4b6b5-64b1-4f0d-bf7d-24a5ad59ff4f"
      },
      "outputs": [
        {
          "data": {
            "image/png": "[encoded data removed]",
            "text/plain": [
              "<Figure size 1440x288 with 5 Axes>"
            ]
          },
          "metadata": {
            "needs_background": "light"
          },
          "output_type": "display_data"
        }
      ],
      "source": [
        "plot_misclassifications(misclassification)"
      ]
    },
    {
      "cell_type": "code",
      "execution_count": null,
      "id": "0cc473b3",
      "metadata": {
        "id": "0cc473b3"
      },
      "outputs": [],
      "source": [
        ""
      ]
    }
  ],
  "metadata": {
    "kernelspec": {
      "display_name": "Python 3",
      "language": "python",
      "name": "python3"
    },
    "language_info": {
      "codemirror_mode": {
        "name": "ipython",
        "version": 3
      },
      "file_extension": ".py",
      "mimetype": "text/x-python",
      "name": "python",
      "nbconvert_exporter": "python",
      "pygments_lexer": "ipython3",
      "version": "3.8.8"
    },
    "colab": {
      "name": "PCA with Decision tree model .ipynb",
      "provenance": [],
      "collapsed_sections": [],
      "include_colab_link": true
    }
  },
  "nbformat": 4,
  "nbformat_minor": 5
}